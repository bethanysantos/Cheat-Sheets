{
 "cells": [
  {
   "cell_type": "markdown",
   "metadata": {},
   "source": [
    "# Configuration"
   ]
  },
  {
   "cell_type": "code",
   "execution_count": null,
   "metadata": {},
   "outputs": [],
   "source": [
    "# Set name and email\n",
    "git config --global user.name \"Your Name\"\n",
    "git config --global user.email \"your.email@example.com\"\n",
    "\n",
    "# View current configuration\n",
    "git config --list"
   ]
  },
  {
   "cell_type": "markdown",
   "metadata": {},
   "source": [
    "# Getting Help and Finding resources"
   ]
  },
  {
   "cell_type": "code",
   "execution_count": null,
   "metadata": {},
   "outputs": [],
   "source": [
    "# git <command> -h \n",
    "# displays info on how to use and the options for that command\n",
    "git config -h\n",
    "git init -h\n",
    "\n",
    "# git help <command>\n",
    "# opens an html file of documentation on the command\n",
    "git help config"
   ]
  },
  {
   "cell_type": "markdown",
   "metadata": {},
   "source": [
    "# Starting a project"
   ]
  },
  {
   "cell_type": "code",
   "execution_count": null,
   "metadata": {},
   "outputs": [],
   "source": [
    "# change directory\n",
    "cd \"C:\\Users\\betha\\OneDrive\\Documents\\Learning\\Portfolio\\Notes\\Cheat Sheets\"\n",
    "\n",
    "# create repository\n",
    "git init\n",
    "\n",
    "# Clone an existing repository\n",
    "git clone <repository_url>\n"
   ]
  },
  {
   "cell_type": "markdown",
   "metadata": {},
   "source": [
    "# Basic Workflow"
   ]
  },
  {
   "cell_type": "code",
   "execution_count": null,
   "metadata": {},
   "outputs": [],
   "source": [
    "# Check repository status\n",
    "git status\n",
    "\n",
    "# Add changes to the staging area\n",
    "git add <file_or_directory>\n",
    "\n",
    "# Add all changes\n",
    "git add .\n",
    "\n",
    "# Commit changes\n",
    "git commit -m \"Commit message\""
   ]
  },
  {
   "cell_type": "markdown",
   "metadata": {},
   "source": [
    "# Branching"
   ]
  },
  {
   "cell_type": "code",
   "execution_count": null,
   "metadata": {},
   "outputs": [],
   "source": [
    "# List all branches\n",
    "git branch\n",
    "\n",
    "# Create a new branch\n",
    "git branch <branch_name>\n",
    "\n",
    "# Switch to a branch\n",
    "git checkout <branch_name>\n",
    "\n",
    "# Create and switch to a new branch\n",
    "git checkout -b <branch_name>\n",
    "\n",
    "# Merge a branch into the current branch\n",
    "git merge <branch_name>"
   ]
  },
  {
   "cell_type": "markdown",
   "metadata": {},
   "source": [
    "# Remote Repositories"
   ]
  },
  {
   "cell_type": "code",
   "execution_count": null,
   "metadata": {},
   "outputs": [],
   "source": [
    "# Add a remote repository\n",
    "git remote add origin <repository_url>\n",
    "\n",
    "# View remote repositories\n",
    "git remote -v\n",
    "\n",
    "# Fetch changes from a remote repository\n",
    "git fetch origin\n",
    "\n",
    "# Push changes to a remote repository\n",
    "git push origin <branch_name>\n",
    "\n",
    "# Pull changes from a remote repository\n",
    "git pull origin <branch_name>\n"
   ]
  },
  {
   "cell_type": "markdown",
   "metadata": {},
   "source": [
    "# Stashing"
   ]
  },
  {
   "cell_type": "code",
   "execution_count": null,
   "metadata": {},
   "outputs": [],
   "source": [
    "# Stash changes\n",
    "git stash\n",
    "\n",
    "# List stashed changes\n",
    "git stash list\n",
    "\n",
    "# Apply stashed changes\n",
    "git stash apply\n",
    "\n",
    "# Apply and drop stash\n",
    "git stash pop\n"
   ]
  },
  {
   "cell_type": "markdown",
   "metadata": {},
   "source": [
    "# Logging and History"
   ]
  },
  {
   "cell_type": "code",
   "execution_count": null,
   "metadata": {},
   "outputs": [],
   "source": [
    "# View commit history\n",
    "git log\n",
    "\n",
    "# View a specific file’s history\n",
    "git log <file_name>\n",
    "\n",
    "# View simplified log\n",
    "git log --oneline\n"
   ]
  },
  {
   "cell_type": "markdown",
   "metadata": {},
   "source": [
    "# Other useful commands"
   ]
  },
  {
   "cell_type": "code",
   "execution_count": null,
   "metadata": {},
   "outputs": [],
   "source": [
    "# clear the screen \n",
    "clear\n",
    "\n",
    "# change directory\n",
    "cd \"path\"\n",
    "\n",
    "# print current directory\n",
    "pwd \n",
    "\n"
   ]
  },
  {
   "cell_type": "markdown",
   "metadata": {},
   "source": []
  }
 ],
 "metadata": {
  "kernelspec": {
   "display_name": "Python 3",
   "language": "python",
   "name": "python3"
  },
  "language_info": {
   "codemirror_mode": {
    "name": "ipython",
    "version": 3
   },
   "file_extension": ".py",
   "mimetype": "text/x-python",
   "name": "python",
   "nbconvert_exporter": "python",
   "pygments_lexer": "ipython3",
   "version": "3.9.1"
  }
 },
 "nbformat": 4,
 "nbformat_minor": 2
}
