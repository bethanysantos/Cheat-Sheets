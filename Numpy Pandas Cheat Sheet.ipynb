{
 "cells": [
  {
   "cell_type": "markdown",
   "metadata": {},
   "source": [
    "# Numpy Cheat Sheet"
   ]
  },
  {
   "cell_type": "markdown",
   "metadata": {},
   "source": [
    "### Importing Numpy\n"
   ]
  },
  {
   "cell_type": "code",
   "execution_count": 2,
   "metadata": {},
   "outputs": [],
   "source": [
    "import numpy as np"
   ]
  },
  {
   "cell_type": "markdown",
   "metadata": {},
   "source": [
    "### Creating Arrays"
   ]
  },
  {
   "cell_type": "code",
   "execution_count": 3,
   "metadata": {},
   "outputs": [],
   "source": [
    "# 1D Array\n",
    "arr = np.array([1, 2, 3])\n",
    "\n",
    "# 2D Array\n",
    "arr = np.array([[1, 2, 3], [4, 5, 6]])\n",
    "\n",
    "# Array of zeros\n",
    "zeros = np.zeros((2, 3))\n",
    "\n",
    "# Array of ones\n",
    "ones = np.ones((2, 3))\n",
    "\n",
    "# Array of a constant value\n",
    "full = np.full((2, 3), 7)\n",
    "\n",
    "# Array with a range of values\n",
    "arange = np.arange(0, 10, 2)\n",
    "\n",
    "# Array of random values\n",
    "rand = np.random.random((2, 3))\n"
   ]
  },
  {
   "cell_type": "markdown",
   "metadata": {},
   "source": [
    "### Inspecting Arrays"
   ]
  },
  {
   "cell_type": "code",
   "execution_count": 4,
   "metadata": {},
   "outputs": [
    {
     "data": {
      "text/plain": [
       "2"
      ]
     },
     "execution_count": 4,
     "metadata": {},
     "output_type": "execute_result"
    }
   ],
   "source": [
    "arr.shape    # Array dimensions\n",
    "arr.size     # Number of elements\n",
    "arr.dtype    # Data type of elements\n",
    "arr.ndim     # Number of dimensions"
   ]
  },
  {
   "cell_type": "markdown",
   "metadata": {},
   "source": [
    "### Array Operations\n"
   ]
  },
  {
   "cell_type": "code",
   "execution_count": 8,
   "metadata": {},
   "outputs": [
    {
     "data": {
      "text/plain": [
       "10"
      ]
     },
     "execution_count": 8,
     "metadata": {},
     "output_type": "execute_result"
    }
   ],
   "source": [
    "arr1 = np.array([1, 2, 3, 4, 5])\n",
    "arr2 = np.array([6, 7, 8, 9, 10])\n",
    "arr = np.vstack((arr1, arr2))\n",
    "\n",
    "# Element-wise operations\n",
    "result = arr1 + arr2\n",
    "result = arr1 - arr2\n",
    "result = arr1 * arr2\n",
    "result = arr1 / arr2\n",
    "\n",
    "# Mathematical functions\n",
    "np.sqrt(arr)\n",
    "np.exp(arr)\n",
    "np.mean(arr)\n",
    "np.std(arr)\n",
    "np.sum(arr)\n",
    "np.min(arr)\n",
    "np.max(arr)"
   ]
  },
  {
   "cell_type": "markdown",
   "metadata": {},
   "source": [
    "### Indexing and Slicing"
   ]
  },
  {
   "cell_type": "code",
   "execution_count": 9,
   "metadata": {},
   "outputs": [
    {
     "data": {
      "text/plain": [
       "array([[2, 3],\n",
       "       [7, 8]])"
      ]
     },
     "execution_count": 9,
     "metadata": {},
     "output_type": "execute_result"
    }
   ],
   "source": [
    "arr[0, 1]          # Accessing element\n",
    "arr[:, 1]          # Accessing a column\n",
    "arr[1, :]          # Accessing a row\n",
    "arr[0:2, 1:3]      # Slicing subarray"
   ]
  },
  {
   "cell_type": "markdown",
   "metadata": {},
   "source": [
    "### Reshaping and Resizing\n"
   ]
  },
  {
   "cell_type": "code",
   "execution_count": null,
   "metadata": {},
   "outputs": [],
   "source": [
    "arr.reshape((3, 2))\n",
    "arr.resize((3, 2))\n"
   ]
  },
  {
   "cell_type": "markdown",
   "metadata": {},
   "source": [
    "### Stacking Arrays"
   ]
  },
  {
   "cell_type": "code",
   "execution_count": null,
   "metadata": {},
   "outputs": [],
   "source": [
    "np.vstack((arr1, arr2))\n",
    "np.hstack((arr1, arr2))"
   ]
  },
  {
   "cell_type": "markdown",
   "metadata": {},
   "source": [
    "# Pandas Cheat Sheet"
   ]
  },
  {
   "cell_type": "markdown",
   "metadata": {},
   "source": [
    "### Importing Pandas"
   ]
  },
  {
   "cell_type": "code",
   "execution_count": 14,
   "metadata": {},
   "outputs": [],
   "source": [
    "import pandas as pd"
   ]
  },
  {
   "cell_type": "markdown",
   "metadata": {},
   "source": [
    "### Creating DataFrames"
   ]
  },
  {
   "cell_type": "code",
   "execution_count": 15,
   "metadata": {},
   "outputs": [],
   "source": [
    "# From a dictionary\n",
    "data = {'A': [1, 2, 3], 'B': [4, 5, 6]}\n",
    "df = pd.DataFrame(data)\n",
    "\n",
    "# From a list of dictionaries\n",
    "data = [{'A': 1, 'B': 4}, {'A': 2, 'B': 5}, {'A': 3, 'B': 6}]\n",
    "df = pd.DataFrame(data)\n",
    "\n",
    "# From a NumPy array\n",
    "arr = np.array([[1, 2], [3, 4], [5, 6]])\n",
    "df = pd.DataFrame(arr, columns=['A', 'B'])"
   ]
  },
  {
   "cell_type": "markdown",
   "metadata": {},
   "source": [
    "### Inspecting DataFrames"
   ]
  },
  {
   "cell_type": "code",
   "execution_count": null,
   "metadata": {},
   "outputs": [],
   "source": [
    "df.head()          # First 5 rows\n",
    "df.tail()          # Last 5 rows\n",
    "df.info()          # Summary of DataFrame\n",
    "df.describe()      # Statistical summary\n",
    "df.shape           # Dimensions\n",
    "df.columns         # Column names\n",
    "df.index           # Index names"
   ]
  },
  {
   "cell_type": "markdown",
   "metadata": {},
   "source": [
    "### Accessing Data"
   ]
  },
  {
   "cell_type": "code",
   "execution_count": null,
   "metadata": {},
   "outputs": [],
   "source": [
    "df['A']           # Accessing a column\n",
    "df[['A', 'B']]    # Accessing multiple columns\n",
    "df.loc[0]         # Accessing a row by index\n",
    "df.iloc[0]        # Accessing a row by position\n",
    "df.loc[0, 'A']    # Accessing a specific value"
   ]
  },
  {
   "cell_type": "markdown",
   "metadata": {},
   "source": [
    "### Filtering Data"
   ]
  },
  {
   "cell_type": "code",
   "execution_count": null,
   "metadata": {},
   "outputs": [],
   "source": [
    "df[df['A'] > 2]              # Filtering rows based on condition\n",
    "df[(df['A'] > 2) & (df['B'] < 6)]  # Multiple conditions"
   ]
  },
  {
   "cell_type": "markdown",
   "metadata": {},
   "source": [
    "### Adding and Modifying Data"
   ]
  },
  {
   "cell_type": "code",
   "execution_count": null,
   "metadata": {},
   "outputs": [],
   "source": [
    "df['C'] = [7, 8, 9]          # Adding a new column\n",
    "df.drop(columns = ['A', 'B'])   # Drop columns\n",
    "df.at[0, 'A'] = 10           # Modifying a value\n",
    "df.loc[df['A'] > 2, 'B'] = 0 # Conditional modification"
   ]
  },
  {
   "cell_type": "markdown",
   "metadata": {},
   "source": [
    "### Handling Missing Data"
   ]
  },
  {
   "cell_type": "code",
   "execution_count": null,
   "metadata": {},
   "outputs": [],
   "source": [
    "df.dropna()                  # Drop rows with missing values\n",
    "df.fillna(0)                 # Fill missing values with 0\n",
    "df.isna()                    # Check for missing values\n",
    "df.isnull()                  # Check for missing values\n",
    "df.notnull()                 # Check for missing values"
   ]
  },
  {
   "cell_type": "markdown",
   "metadata": {},
   "source": [
    "### Aggregation and Grouping"
   ]
  },
  {
   "cell_type": "code",
   "execution_count": null,
   "metadata": {},
   "outputs": [],
   "source": [
    "df.groupby('A').sum()        # Grouping by a column and summing\n",
    "df.groupby('A').mean()       # Grouping by a column and averaging\n",
    "df['A'].value_counts()       # Counting unique values in a column"
   ]
  },
  {
   "cell_type": "markdown",
   "metadata": {},
   "source": [
    "### Merging and Joining"
   ]
  },
  {
   "cell_type": "code",
   "execution_count": null,
   "metadata": {},
   "outputs": [],
   "source": [
    "pd.concat([df1, df2])        # Concatenating DataFrames\n",
    "pd.merge(df1, df2, on='A')   # Merging DataFrames on a column\n",
    "df.join(other_df)            # Joining on index"
   ]
  },
  {
   "cell_type": "markdown",
   "metadata": {},
   "source": [
    "### Exporting and Importing Data"
   ]
  },
  {
   "cell_type": "code",
   "execution_count": null,
   "metadata": {},
   "outputs": [],
   "source": [
    "df.to_csv('data.csv')        # Exporting to CSV\n",
    "df = pd.read_csv('data.csv') # Importing from CSV\n",
    "\n",
    "df.to_excel('data.xlsx')     # Exporting to Excel\n",
    "df = pd.read_excel('data.xlsx') # Importing from Excel"
   ]
  }
 ],
 "metadata": {
  "kernelspec": {
   "display_name": "Python 3",
   "language": "python",
   "name": "python3"
  },
  "language_info": {
   "codemirror_mode": {
    "name": "ipython",
    "version": 3
   },
   "file_extension": ".py",
   "mimetype": "text/x-python",
   "name": "python",
   "nbconvert_exporter": "python",
   "pygments_lexer": "ipython3",
   "version": "3.11.9"
  }
 },
 "nbformat": 4,
 "nbformat_minor": 2
}
